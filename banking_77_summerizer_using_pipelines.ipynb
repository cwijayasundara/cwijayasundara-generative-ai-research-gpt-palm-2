{
  "nbformat": 4,
  "nbformat_minor": 0,
  "metadata": {
    "colab": {
      "provenance": []
    },
    "kernelspec": {
      "name": "python3",
      "display_name": "Python 3"
    },
    "language_info": {
      "name": "python"
    }
  },
  "cells": [
    {
      "cell_type": "code",
      "execution_count": null,
      "metadata": {
        "id": "uDQsPqNJZdC4"
      },
      "outputs": [],
      "source": [
        "!pip install datasets evaluate transformers[sentencepiece]"
      ]
    },
    {
      "cell_type": "code",
      "source": [
        "from datasets import load_dataset\n",
        "from transformers import pipeline\n",
        "dataset = load_dataset(\"banking77\")"
      ],
      "metadata": {
        "id": "9u8BJZ-XZl67"
      },
      "execution_count": null,
      "outputs": []
    },
    {
      "cell_type": "code",
      "source": [
        "# Sort the dataset by the length of the customer texts\n",
        "sorted_data = sorted(dataset['train'], key=lambda x: len(x['text']), reverse=True)\n",
        "\n",
        "# Extract the longest 5 customer texts\n",
        "longest_five_texts = [entry[\"text\"] for entry in sorted_data[:5]]"
      ],
      "metadata": {
        "id": "HsKNIr5UZsEa"
      },
      "execution_count": null,
      "outputs": []
    },
    {
      "cell_type": "code",
      "source": [
        "classifier_sentiment = pipeline(\"sentiment-analysis\")\n",
        "summarizer = pipeline(\"summarization\", model=\"human-centered-summarization/financial-summarization-pegasus\")\n",
        "ner = pipeline(\"ner\", grouped_entities=True)"
      ],
      "metadata": {
        "id": "YRVKi039ZwaT"
      },
      "execution_count": null,
      "outputs": []
    },
    {
      "cell_type": "code",
      "source": [
        "for i in range(len(longest_five_texts)):\n",
        "  word_to_eval = longest_five_texts[i]\n",
        "  print( i, \" text from the banking-77 dataset is\" , word_to_eval, \"\\n\")\n",
        "  sentiment = classifier_sentiment(word_to_eval)\n",
        "  print(\"sentiment of the \", i, \"text is \", sentiment, \"\\n\")\n",
        "  summary = summarizer(word_to_eval)\n",
        "  print(\"summary of the \", i, \"text is \", summary, \"\\n\")\n",
        "  name_entity = ner(word_to_eval)\n",
        "  print(\"NER of the \", i, \"text is \", name_entity, \"\\n\")\n",
        "  print(\"******************\", \"\\n\")"
      ],
      "metadata": {
        "id": "ywAqj_1SaKew",
        "colab": {
          "base_uri": "https://localhost:8080/"
        },
        "outputId": "2f21e762-e19c-4a07-d1b0-1b1c77d742ca"
      },
      "execution_count": null,
      "outputs": [
        {
          "output_type": "stream",
          "name": "stdout",
          "text": [
            "0  text from the banking-77 dataset is Hearing back from us regarding your important verification results may take 10 minutes to one hour time.  If verification results do fail, double-check to make sure all of your images are clear --  make sure your photos have no glare or blurring. Note: These photos need to be readable as well.  You also need to be 18 years of age or older.  You must be a resident of Switzerland or the European Economic Area to open a new account. \n",
            "\n",
            "sentiment of the  0 text is  [{'label': 'NEGATIVE', 'score': 0.9923595786094666}] \n",
            "\n",
            "summary of the  0 text is  [{'summary_text': 'All photos are copyrighted.'}] \n",
            "\n",
            "NER of the  0 text is  [{'entity_group': 'LOC', 'score': 0.9998437, 'word': 'Switzerland', 'start': 369, 'end': 380}, {'entity_group': 'ORG', 'score': 0.9862294, 'word': 'European Economic Area', 'start': 388, 'end': 410}] \n",
            "\n",
            "****************** \n",
            "\n",
            "1  text from the banking-77 dataset is Hearing about your verification results from us may take anywhere from 10 minutes to approximately one hour.  If this verification has in fact, failed, double-check to make sure that your images are clear.  Also make sure that your document photos have no blur or glare. They need to be readable.  You must also be 18 years of age or older and be a resident of Switzerland or the European Economic Area to open an account. \n",
            "\n",
            "sentiment of the  1 text is  [{'label': 'NEGATIVE', 'score': 0.9724828600883484}] \n",
            "\n",
            "summary of the  1 text is  [{'summary_text': 'You must be 18 years of age or older and be a resident of Switzerland or the European Economic Area to open an account.'}] \n",
            "\n",
            "NER of the  1 text is  [{'entity_group': 'LOC', 'score': 0.9998312, 'word': 'Switzerland', 'start': 361, 'end': 372}, {'entity_group': 'ORG', 'score': 0.9870246, 'word': 'European Economic Area', 'start': 380, 'end': 402}] \n",
            "\n",
            "****************** \n",
            "\n",
            "2  text from the banking-77 dataset is Hi! I'm a university student studying abroad and I noticed that when I was trying to cross-reference my budget for this month that there were extra fees I was not expecting. Why is that? I've had this account for years and I haven't had any trouble so far, it might not even be on your all's end since I'm still new to international travel and finance, but I wanted to double check in case a mistake was made! \n",
            "\n",
            "sentiment of the  2 text is  [{'label': 'NEGATIVE', 'score': 0.9970723390579224}] \n",
            "\n",
            "summary of the  2 text is  [{'summary_text': 'Check here for the most up-to-date travel and finance advice.'}] \n",
            "\n",
            "NER of the  2 text is  [] \n",
            "\n",
            "****************** \n",
            "\n",
            "3  text from the banking-77 dataset is You will hear back from us about your verification results in 10 minutes to a one hour timeframe.  If these verification results do fail, please double-check to make sure your images are clear and have no glare or blur; your photos need to be fully readable.  You need to be 18 years of age or older and a resident of Switzerland or the European Economic Area to create an account. \n",
            "\n",
            "sentiment of the  3 text is  [{'label': 'NEGATIVE', 'score': 0.9875160455703735}] \n",
            "\n",
            "summary of the  3 text is  [{'summary_text': 'Do you have a question about verification?'}] \n",
            "\n",
            "NER of the  3 text is  [{'entity_group': 'LOC', 'score': 0.99983895, 'word': 'Switzerland', 'start': 318, 'end': 329}, {'entity_group': 'ORG', 'score': 0.9753828, 'word': 'European Economic Area', 'start': 337, 'end': 359}] \n",
            "\n",
            "****************** \n",
            "\n",
            "4  text from the banking-77 dataset is It can take between 10 minutes to an hour before you hear back from us about the verification result.  Please try again if your verification fails.  Make sure you double check that images are clear and all document photos are readable without blur or glare. You have to be 18 or older and live in the European Economic area or live in Switzerland to be able to open an account. \n",
            "\n",
            "sentiment of the  4 text is  [{'label': 'NEGATIVE', 'score': 0.9846864938735962}] \n",
            "\n",
            "summary of the  4 text is  [{'summary_text': 'verification process takes a few minutes.'}] \n",
            "\n",
            "NER of the  4 text is  [{'entity_group': 'MISC', 'score': 0.74560374, 'word': 'European', 'start': 301, 'end': 309}, {'entity_group': 'LOC', 'score': 0.37459803, 'word': 'Economic', 'start': 310, 'end': 318}, {'entity_group': 'MISC', 'score': 0.7686183, 'word': 'area', 'start': 319, 'end': 323}, {'entity_group': 'LOC', 'score': 0.99982315, 'word': 'Switzerland', 'start': 335, 'end': 346}] \n",
            "\n",
            "****************** \n",
            "\n"
          ]
        }
      ]
    }
  ]
}