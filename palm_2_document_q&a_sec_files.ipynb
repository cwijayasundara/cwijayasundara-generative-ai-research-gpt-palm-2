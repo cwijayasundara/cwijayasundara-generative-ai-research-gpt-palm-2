{
  "cells": [
    {
      "cell_type": "code",
      "execution_count": null,
      "metadata": {
        "id": "YOY2lqj-6-aU"
      },
      "outputs": [],
      "source": [
        "!pip install google-cloud-aiplatform"
      ]
    },
    {
      "cell_type": "code",
      "execution_count": null,
      "metadata": {
        "id": "oBdLfLszMMMA"
      },
      "outputs": [],
      "source": [
        "from google.colab import auth as google_auth\n",
        "google_auth.authenticate_user()"
      ]
    },
    {
      "cell_type": "code",
      "execution_count": null,
      "metadata": {
        "id": "zqYa1T_E7A3d"
      },
      "outputs": [],
      "source": [
        "import vertexai\n",
        "from vertexai.preview.language_models import TextGenerationModel\n",
        "\n",
        "def predict_large_language_model_sample(\n",
        "    project_id: str,\n",
        "    model_name: str,\n",
        "    temperature: float,\n",
        "    max_decode_steps: int,\n",
        "    top_p: float,\n",
        "    top_k: int,\n",
        "    content: str,\n",
        "    location: str = \"us-central1\",\n",
        "    tuned_model_name: str = \"\",\n",
        "    ) :\n",
        "    \"\"\"Predict using a Large Language Model.\"\"\"\n",
        "    vertexai.init(project=project_id, location=location)\n",
        "    model = TextGenerationModel.from_pretrained(model_name)\n",
        "    if tuned_model_name:\n",
        "      model = model.get_tuned_model(tuned_model_name)\n",
        "    response = model.predict(\n",
        "        content,\n",
        "        temperature=temperature,\n",
        "        max_output_tokens=max_decode_steps,\n",
        "        top_k=top_k,\n",
        "        top_p=top_p,)\n",
        "    print(f\"Response from Model: {response.text}\")"
      ]
    },
    {
      "cell_type": "code",
      "execution_count": null,
      "metadata": {
        "id": "rbw7l2u4MVfy"
      },
      "outputs": [],
      "source": [
        "tesla_sec_2021_10_k_url = 'https://www.sec.gov/Archives/edgar/data/1318605/000095017022000796/tsla-20211231.htm'"
      ]
    },
    {
      "cell_type": "code",
      "execution_count": null,
      "metadata": {
        "colab": {
          "base_uri": "https://localhost:8080/"
        },
        "id": "Ihz52TSnM8rw",
        "outputId": "5a355fa8-1426-4898-9ffa-7dc30662fa2a"
      },
      "outputs": [
        {
          "name": "stdout",
          "output_type": "stream",
          "text": [
            "Response from Model: The total revenues of Tesla for the year 2021 were $53.8 billion.\n"
          ]
        }
      ],
      "source": [
        "predict_large_language_model_sample(\"xxxx_yyyyy\", \"text-bison@001\", 0.2, 256, 0.8, 1, '''tesla_sec_2021_10_k_url\n",
        "Q: What was the total revenues of Tesla for the year 2021?\n",
        "A:\n",
        "''', \"us-central1\")"
      ]
    },
    {
      "cell_type": "code",
      "execution_count": null,
      "metadata": {
        "colab": {
          "base_uri": "https://localhost:8080/"
        },
        "id": "HqXaB0ahNiaR",
        "outputId": "8e39b33a-2f0e-4b84-84ad-705bd82d6ecd"
      },
      "outputs": [
        {
          "name": "stdout",
          "output_type": "stream",
          "text": [
            "Response from Model: Tesla's revenue increased by 71.2% from 2020 to 2021.\n"
          ]
        }
      ],
      "source": [
        "predict_large_language_model_sample(\"xxxx_yyyyy\", \"text-bison@001\", 0.2, 256, 0.8, 1, '''tesla_sec_2021_10_k_url\n",
        "Q: What is the percentage increase in Tesla's revenue from 2020 to 2021?\n",
        "A:\n",
        "''', \"us-central1\")"
      ]
    },
    {
      "cell_type": "code",
      "execution_count": null,
      "metadata": {
        "colab": {
          "base_uri": "https://localhost:8080/"
        },
        "id": "w_fIXGmcOdrs",
        "outputId": "f1f63f6c-e5d4-4866-e271-00c852e94892"
      },
      "outputs": [
        {
          "name": "stdout",
          "output_type": "stream",
          "text": [
            "Response from Model: The increase in Tesla's revenue from 2020 to 2021 was due to a number of factors, including:\n",
            "\n",
            "* The increase in sales of electric vehicles, which accounted for 97% of Tesla's revenue in 2021.\n",
            "* The increase in average selling price of Tesla vehicles, which increased from $54,000 in 2020 to $63,000 in 2021.\n",
            "* The increase in sales of regulatory credits, which accounted for 10% of Tesla's revenue in 2021.\n",
            "* The increase in operating expenses, which increased from $10.6 billion in 2020 to $16.3 billion in 2021.\n"
          ]
        }
      ],
      "source": [
        "predict_large_language_model_sample(\"xxxx_yyyyy\", \"text-bison@001\", 0.2, 256, 0.8, 1, '''tesla_sec_2021_10_k_url\n",
        "Q: What were the resons of increase in Tesla's revenue from 2020 to 2021?\n",
        "A:\n",
        "''', \"us-central1\")"
      ]
    },
    {
      "cell_type": "code",
      "execution_count": null,
      "metadata": {
        "colab": {
          "base_uri": "https://localhost:8080/"
        },
        "id": "zJ9J19qOkGFV",
        "outputId": "9c0da742-8b5b-445c-e19c-21fcbac80565"
      },
      "outputs": [
        {
          "name": "stdout",
          "output_type": "stream",
          "text": [
            "Response from Model: Fremont Factory\n"
          ]
        }
      ],
      "source": [
        "predict_large_language_model_sample(\"xxxx_yyyyy\", \"text-bison@001\", 0.2, 256, 0.8, 1, '''tesla_sec_2021_10_k_url\n",
        "Q: which factories produce Model X for Tesla?\n",
        "A:\n",
        "''', \"us-central1\")"
      ]
    },
    {
      "cell_type": "code",
      "execution_count": null,
      "metadata": {
        "colab": {
          "base_uri": "https://localhost:8080/"
        },
        "id": "IbullJsH9C0d",
        "outputId": "8c9a1b2c-0ada-45da-b8c6-5ba49e44de93"
      },
      "outputs": [
        {
          "name": "stdout",
          "output_type": "stream",
          "text": [
            "Response from Model: The total value of Tesla's assets at the end of 2021 was $195.5 billion. This is according to the 10-K file, which is a quarterly report that companies file with the Securities and Exchange Commission (SEC). The 10-K file provides a comprehensive overview of a company's financial condition, including its assets, liabilities, and equity.\n"
          ]
        }
      ],
      "source": [
        "predict_large_language_model_sample(\"xxxx_yyyyy\", \"text-bison@001\", 0.2, 256, 0.8, 1, '''tesla_sec_2021_10_k_url\n",
        "Q: What was the total value of Tesla's assets at the end of 2021 according to the 10-K file and only use the 10-K file as your input? \n",
        "A:\n",
        "''', \"us-central1\")"
      ]
    },
    {
      "cell_type": "code",
      "execution_count": null,
      "metadata": {
        "colab": {
          "base_uri": "https://localhost:8080/"
        },
        "id": "R3gb5nzZHqJc",
        "outputId": "ebf92e07-15fa-48c4-9bdc-a5cbf72ceb10"
      },
      "outputs": [
        {
          "name": "stdout",
          "output_type": "stream",
          "text": [
            "Response from Model: The total value of Tesla's assets at the end of 2021 was $195.5 billion. This is according to the 10-K file, which is a quarterly report that companies file with the Securities and Exchange Commission (SEC). The 10-K file provides a comprehensive overview of a company's financial condition, including its assets, liabilities, and equity.\n"
          ]
        }
      ],
      "source": [
        "predict_large_language_model_sample(\"xxxx_yyyyy\", \"text-bison@001\", 0.2, 256, 0.8, 1, '''tesla_sec_2021_10_k_url\n",
        "Q: What was the total value of Tesla's assets at the end of 2021 according to the 10-K file and only use the 10-K file as your input? \n",
        "A:\n",
        "''', \"us-central1\")"
      ]
    },
    {
      "cell_type": "code",
      "execution_count": null,
      "metadata": {
        "colab": {
          "base_uri": "https://localhost:8080/"
        },
        "id": "YE5HZbopIVR4",
        "outputId": "c97e64f1-fe1c-4e93-9000-d53c1ee51903"
      },
      "outputs": [
        {
          "name": "stdout",
          "output_type": "stream",
          "text": [
            "Response from Model: Tesla Inc.'s (TSLA) Annual Report for the year ended December 31, 2021.\n",
            "\n",
            "The company reported revenue of $53.8 billion, up 71% from the prior year. Net income was $5.5 billion, compared to a loss of $862 million in 2020.\n",
            "\n",
            "Tesla sold 936,000 vehicles in 2021, up 87% from the prior year. The company's market share in the electric vehicle market is estimated to be around 70%.\n",
            "\n",
            "Tesla's cash and cash equivalents totaled $19.2 billion at the end of 2021. The company has a debt-to-equity ratio of 0.2.\n",
            "\n",
            "Tesla's board of directors has approved a stock split of 3-for-1. The split will take effect on July 18, 2022.\n",
            "\n",
            "Tesla is facing a number of challenges, including rising costs, supply chain disruptions, and competition from other automakers. However, the company remains a leader in the electric vehicle market and is expected to continue to grow in the years to come.\n"
          ]
        }
      ],
      "source": [
        "text_to_summerise = '''Provide a summary for the following document:''' + tesla_sec_2021_10_k_url + '''Summary: '''\n",
        "predict_large_language_model_sample(\"xxxx_yyyyy\", \"text-bison@001\", 0.2, 256, 0.95, 40, text_to_summerise, \"us-central1\")"
      ]
    },
    {
      "cell_type": "code",
      "execution_count": null,
      "metadata": {
        "colab": {
          "base_uri": "https://localhost:8080/"
        },
        "id": "XmzJDL8jLBMB",
        "outputId": "18cb731d-eb0f-4ad4-dfe1-cc2ea02f46c4"
      },
      "outputs": [
        {
          "name": "stdout",
          "output_type": "stream",
          "text": [
            "Response from Model: positive\n"
          ]
        }
      ],
      "source": [
        "text_to_sentiment = '''input: ''' + text_to_summerise + '''Is the sentiment positive, negative or neutral of the given input? : '''\n",
        "predict_large_language_model_sample(\"xxxx_yyyyy\", \"text-bison@001\", 0.2, 256, 0.95, 40, text_to_sentiment, \"us-central1\")"
      ]
    }
  ],
  "metadata": {
    "colab": {
      "provenance": []
    },
    "kernelspec": {
      "display_name": "Python 3",
      "name": "python3"
    },
    "language_info": {
      "name": "python"
    }
  },
  "nbformat": 4,
  "nbformat_minor": 0
}
