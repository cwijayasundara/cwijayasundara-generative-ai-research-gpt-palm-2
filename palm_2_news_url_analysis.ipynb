{
  "nbformat": 4,
  "nbformat_minor": 0,
  "metadata": {
    "colab": {
      "provenance": []
    },
    "kernelspec": {
      "name": "python3",
      "display_name": "Python 3"
    },
    "language_info": {
      "name": "python"
    }
  },
  "cells": [
    {
      "cell_type": "code",
      "execution_count": null,
      "metadata": {
        "id": "GxciEeL5ON_K"
      },
      "outputs": [],
      "source": [
        "!pip install google-cloud-aiplatform"
      ]
    },
    {
      "cell_type": "code",
      "source": [
        "from google.colab import auth as google_auth\n",
        "google_auth.authenticate_user()"
      ],
      "metadata": {
        "id": "_a99j91a87E0"
      },
      "execution_count": null,
      "outputs": []
    },
    {
      "cell_type": "code",
      "source": [
        "import vertexai\n",
        "import getpass\n",
        "import requests\n",
        "from vertexai.preview.language_models import TextGenerationModel\n",
        "\n",
        "def predict_large_language_model_sample(\n",
        "    project_id: str,\n",
        "    model_name: str,\n",
        "    temperature: float,\n",
        "    max_decode_steps: int,\n",
        "    top_p: float,\n",
        "    top_k: int,\n",
        "    content: str,\n",
        "    location: str = \"us-central1\",\n",
        "    tuned_model_name: str = \"\",\n",
        "    ) :\n",
        "    \"\"\"Predict using a Large Language Model.\"\"\"\n",
        "    vertexai.init(project=project_id, location=location)\n",
        "    model = TextGenerationModel.from_pretrained(model_name)\n",
        "    if tuned_model_name:\n",
        "      model = model.get_tuned_model(tuned_model_name)\n",
        "    response = model.predict(\n",
        "        content,\n",
        "        temperature=temperature,\n",
        "        max_output_tokens=max_decode_steps,\n",
        "        top_k=top_k,\n",
        "        top_p=top_p,)\n",
        "    print(f\"Response from Model: {response.text}\")\n",
        "    return response.text"
      ],
      "metadata": {
        "id": "vZzHloL_8-eA"
      },
      "execution_count": null,
      "outputs": []
    },
    {
      "cell_type": "code",
      "source": [
        "api_key = 'xxxxxx'  # replace with your actual API key\n",
        "company_list = ['Tesla', 'Apple', 'Google']"
      ],
      "metadata": {
        "id": "vf2syoev93ej"
      },
      "execution_count": null,
      "outputs": []
    },
    {
      "cell_type": "code",
      "source": [
        "def get_financial_news(company_name, api_key):\n",
        "    url = f\"https://api.goperigon.com/v1/all?source=cnn.com&q={company_name}&from=2023-05-10&sortBy=date&apiKey={api_key}\"\n",
        "    response = requests.get(url) \n",
        "    if response.status_code != 200:\n",
        "        print(f\"Request failed with status code {response.status_code}\")\n",
        "        return\n",
        "    data = response.json()\n",
        "    articles = data.get('articles')\n",
        "    if articles is None:\n",
        "        print(\"No articles found in the response.\")\n",
        "        return\n",
        "    for article in articles[:5]:\n",
        "        print(f\"Title: {article.get('title')}\")\n",
        "        print(f\"Description: {article.get('description')}\")\n",
        "        print(f\"URL: {article.get('url')}\")\n",
        "        print(\"\\n\")\n",
        "    return articles[:5]"
      ],
      "metadata": {
        "id": "2BDnc_DU9_ne"
      },
      "execution_count": null,
      "outputs": []
    },
    {
      "cell_type": "code",
      "source": [
        "from dataclasses import dataclass\n",
        "@dataclass\n",
        "class CompanySentiment:\n",
        "    url: str\n",
        "    name: str\n",
        "    sentiment: str"
      ],
      "metadata": {
        "id": "3ZJUFcAV-GvE"
      },
      "execution_count": null,
      "outputs": []
    },
    {
      "cell_type": "code",
      "source": [
        "company_sentiment_list = []\n",
        "for company_name in company_list:\n",
        "  print(\"The company name is\", company_name)\n",
        "  articles = get_financial_news(company_name, api_key)\n",
        "  for article in articles:\n",
        "    news_article = '''input: ''' + article.get('description') + '''Is the sentiment positive, negative or neutral of the given input? : '''\n",
        "    print(\"Constructed news article is\" , news_article)\n",
        "    sentiment = predict_large_language_model_sample(\"keras_xxxx\", \"text-bison@001\", 0.2, 5, 0.8, 1, news_article, \"us-central1\")\n",
        "    print(\"sentiment of the \", article.get('url'), \"is \" , sentiment)\n",
        "    company_sentiment_list.append(CompanySentiment(article.get('url'),company_name, sentiment))"
      ],
      "metadata": {
        "colab": {
          "base_uri": "https://localhost:8080/"
        },
        "id": "8HWLN_Ao-Nag",
        "outputId": "c5952622-6e66-40f7-9e48-adb1829bbdec"
      },
      "execution_count": null,
      "outputs": [
        {
          "output_type": "stream",
          "name": "stdout",
          "text": [
            "The company name is Tesla\n",
            "Title: Elon Musk claims George Soros 'hates humanity.' The ADL says Musk's attacks 'will embolden extremists'\n",
            "Description: Elon Musk launched a baseless Twitter attack on George Soros, a frequent target for antisemitic conspiracy theories, accusing the financier of hating humanity days after Soros disclosed having sold off a modest stake in Tesla.\n",
            "URL: https://www.cnn.com/2023/05/16/business/elon-musk-george-soros/index.html\n",
            "\n",
            "\n",
            "Title: Elon Musk said he must approve all hiring decisions at Tesla\n",
            "Description: Tesla Inc CEO Elon Musk has said that the company can make no new hires unless he personally approves them, according to a copy of the email seen by Reuters.\n",
            "URL: https://www.cnn.com/2023/05/16/business/elon-musk-tesla-hiring-memo/index.html\n",
            "\n",
            "\n",
            "Title: US Virgin Islands subpoenas Elon Musk as part of lawsuit into Jeffrey Epstein sex trafficking ring\n",
            "Description: The US Virgin Islands has subpoenaed Elon Musk, requesting documents from the Tesla CEO and Twitter owner for its lawsuit alleging JPMorgan Chase benefited financially from Jeffrey Epstein's sex trafficking operation.\n",
            "URL: https://www.cnn.com/2023/05/15/business/elon-musk-jeffrey-epstein-virgin-islands-subpoena/index.html\n",
            "\n",
            "\n",
            "Title: Why current US recession warnings are unlike all the others\n",
            "Description: Economic experts are once again ringing the alarm bells over an imminent downturn. A US recession is coming, they say, in the second half of 2023. That time frame begins less than three weeks from now.\n",
            "URL: https://www.cnn.com/2023/05/12/investing/premarket-stocks-trading/index.html\n",
            "\n",
            "\n",
            "Title: Tesla to recall 1.1 million cars in China over potential safety risks, Chinese regulator says\n",
            "Description: Tesla will recall more than 1.1 million cars in China due to potential safety risks, the country's top market regulator said on Friday.\n",
            "URL: https://www.cnn.com/2023/05/12/economy/china-tesla-recall-intl-hnk/index.html\n",
            "\n",
            "\n",
            "Constructed news article is input: Elon Musk launched a baseless Twitter attack on George Soros, a frequent target for antisemitic conspiracy theories, accusing the financier of hating humanity days after Soros disclosed having sold off a modest stake in Tesla.Is the sentiment positive, negative or neutral of the given input? : \n",
            "Response from Model: negative\n",
            "sentiment of the  https://www.cnn.com/2023/05/16/business/elon-musk-george-soros/index.html is  negative\n",
            "Constructed news article is input: Tesla Inc CEO Elon Musk has said that the company can make no new hires unless he personally approves them, according to a copy of the email seen by Reuters.Is the sentiment positive, negative or neutral of the given input? : \n",
            "Response from Model: negative\n",
            "sentiment of the  https://www.cnn.com/2023/05/16/business/elon-musk-tesla-hiring-memo/index.html is  negative\n",
            "Constructed news article is input: The US Virgin Islands has subpoenaed Elon Musk, requesting documents from the Tesla CEO and Twitter owner for its lawsuit alleging JPMorgan Chase benefited financially from Jeffrey Epstein's sex trafficking operation.Is the sentiment positive, negative or neutral of the given input? : \n",
            "Response from Model: negative\n",
            "sentiment of the  https://www.cnn.com/2023/05/15/business/elon-musk-jeffrey-epstein-virgin-islands-subpoena/index.html is  negative\n",
            "Constructed news article is input: Economic experts are once again ringing the alarm bells over an imminent downturn. A US recession is coming, they say, in the second half of 2023. That time frame begins less than three weeks from now.Is the sentiment positive, negative or neutral of the given input? : \n",
            "Response from Model: negative\n",
            "sentiment of the  https://www.cnn.com/2023/05/12/investing/premarket-stocks-trading/index.html is  negative\n",
            "Constructed news article is input: Tesla will recall more than 1.1 million cars in China due to potential safety risks, the country's top market regulator said on Friday.Is the sentiment positive, negative or neutral of the given input? : \n",
            "Response from Model: negative\n",
            "sentiment of the  https://www.cnn.com/2023/05/12/economy/china-tesla-recall-intl-hnk/index.html is  negative\n",
            "The company name is Apple\n",
            "Title: The best sales to shop today: Nike, Mac Mini, Philips Hue and more\n",
            "Description: Today, you’ll find a deal on Ultimate Ears Wonderboom 2, a discounted Mac Mini M2 and savings on Hyperice Recovery Devices. All that and more below.\n",
            "URL: https://www.cnn.com/cnn-underscored/deals/best-online-sales-right-now-2023-05-16\n",
            "\n",
            "\n",
            "Title: Warren Buffett's Berkshire Hathaway sells entire stake in TSMC\n",
            "Description: Warren Buffett’s conglomerate has sold its remaining shares in the world’s largest chipmaker, TSMC, after the “Oracle of Omaha” sounded alarms about its homebase of Taiwan.\n",
            "URL: https://www.cnn.com/2023/05/16/investing/berkshire-hathaway-taiwan-tsmc-stock-exit-hnk-intl/index.html\n",
            "\n",
            "\n",
            "Title: The best sales to shop today: Apple, Zappos, Cabeau and more\n",
            "Description: Today, you’ll find a deal on Apple AirTags, discounted W&P food storage and savings on our favorite travel pillow. All that and more below.\n",
            "URL: https://www.cnn.com/cnn-underscored/deals/best-online-sales-right-now-2023-05-15\n",
            "\n",
            "\n",
            "Title: The agony and ecstasy of scoring last-minute face value Taylor Swift tickets\n",
            "Description: When Julia Thomas woke up at her home in Cleveland last Saturday, she spontaneously decided to drive 15 hours to the Taylor Swift concert that night in Nashville, picking up her sister in Cincinnati along the way. But they were missing one thing: tickets.\n",
            "URL: https://www.cnn.com/2023/05/13/tech/taylor-swift-ticket-drops-ticketmaster/index.html\n",
            "\n",
            "\n",
            "Title: Our favorite product releases this week: Stanley, Allbirds, Ouai and more\n",
            "Description: Shop the launch of Stanley’s 30-ounce Quencher tumbler in new hues, Allbirds’ first golf shoes and some incredible smelling laundry detergent from hair care brand Ouai.\n",
            "URL: https://www.cnn.com/cnn-underscored/deals/best-product-launches-2023-05-12\n",
            "\n",
            "\n",
            "Constructed news article is input: Today, you’ll find a deal on Ultimate Ears Wonderboom 2, a discounted Mac Mini M2 and savings on Hyperice Recovery Devices. All that and more below.Is the sentiment positive, negative or neutral of the given input? : \n",
            "Response from Model: positive\n",
            "sentiment of the  https://www.cnn.com/cnn-underscored/deals/best-online-sales-right-now-2023-05-16 is  positive\n",
            "Constructed news article is input: Warren Buffett’s conglomerate has sold its remaining shares in the world’s largest chipmaker, TSMC, after the “Oracle of Omaha” sounded alarms about its homebase of Taiwan.Is the sentiment positive, negative or neutral of the given input? : \n",
            "Response from Model: negative\n",
            "sentiment of the  https://www.cnn.com/2023/05/16/investing/berkshire-hathaway-taiwan-tsmc-stock-exit-hnk-intl/index.html is  negative\n",
            "Constructed news article is input: Today, you’ll find a deal on Apple AirTags, discounted W&P food storage and savings on our favorite travel pillow. All that and more below.Is the sentiment positive, negative or neutral of the given input? : \n",
            "Response from Model: positive\n",
            "sentiment of the  https://www.cnn.com/cnn-underscored/deals/best-online-sales-right-now-2023-05-15 is  positive\n",
            "Constructed news article is input: When Julia Thomas woke up at her home in Cleveland last Saturday, she spontaneously decided to drive 15 hours to the Taylor Swift concert that night in Nashville, picking up her sister in Cincinnati along the way. But they were missing one thing: tickets.Is the sentiment positive, negative or neutral of the given input? : \n",
            "Response from Model: negative\n",
            "sentiment of the  https://www.cnn.com/2023/05/13/tech/taylor-swift-ticket-drops-ticketmaster/index.html is  negative\n",
            "Constructed news article is input: Shop the launch of Stanley’s 30-ounce Quencher tumbler in new hues, Allbirds’ first golf shoes and some incredible smelling laundry detergent from hair care brand Ouai.Is the sentiment positive, negative or neutral of the given input? : \n",
            "Response from Model: positive\n",
            "sentiment of the  https://www.cnn.com/cnn-underscored/deals/best-product-launches-2023-05-12 is  positive\n",
            "The company name is Google\n",
            "Title: Former Google CEO on the dangers, and opportunities, of AI\n",
            "Description: Eric Schmidt talks to Julia Chatterley about how AI could amplify the worst aspects of social media.\n",
            "URL: https://www.cnn.com/videos/business/2023/05/16/exp-ai-eric-schmidt-intv-051609aseg1-cnni-business.cnn\n",
            "\n",
            "\n",
            "Title: Panicked 911 calls capture chaos during the Texas mall massacre that left 8 dead\n",
            "Description: Panicked 911 calls from an Allen, Texas, outlet mall captured moments of chaos and terror as the nation’s second-deadliest mass shooting so far this year unfolded, with eight killed and others wounded within minutes.\n",
            "URL: https://www.cnn.com/2023/05/16/us/allen-texas-mall-shooting-911-calls/index.html\n",
            "\n",
            "\n",
            "Title: Lawsuit alleges that social media companies promoted White supremacist propaganda that led to radicalization of Buffalo mass shooter\n",
            "Description: A wrongful death lawsuit filed against several social media companies Friday alleges that social media lent to the radicalization of the gunman who shot and killed 10 people at a grocery store in Buffalo, New York, last May.\n",
            "URL: https://www.cnn.com/2023/05/14/business/buffalo-shooting-lawsuit/index.html\n",
            "\n",
            "\n",
            "Title: Lobsters! Saunas! Smoothies! A complete guide to Eurovision 2023\n",
            "Description: \"People say I'm a funny guy,\" Finnish rapper Käärijä says, reclining in the sauna truck he had shipped across northern Europe, wearing only some tight leather shorts, a set of spiky green sleeves and an aggressive bowl cut.\n",
            "URL: https://www.cnn.com/2023/05/13/uk/eurovision-song-contest-2023-grand-final-cmd-gbr-intl/index.html\n",
            "\n",
            "\n",
            "Title: ​​EarFun Air Pro 3 vs. Jabra Elite 4: Which sub-$100 earbuds are best for you?\n",
            "Description: The battle for best wireless earbuds under $100 is heating up with the release of the $80 EarFun Air Pro 3 and $100 Jabra Elite 4. Both models come with effective active noise cancellation (ANC), gratifying sound and terrific wireless features for their price points. But which one is best?\n",
            "URL: https://www.cnn.com/cnn-underscored/electronics/earfun-air-pro-3-vs-jabra-elite-4\n",
            "\n",
            "\n",
            "Constructed news article is input: Eric Schmidt talks to Julia Chatterley about how AI could amplify the worst aspects of social media.Is the sentiment positive, negative or neutral of the given input? : \n",
            "Response from Model: negative\n",
            "sentiment of the  https://www.cnn.com/videos/business/2023/05/16/exp-ai-eric-schmidt-intv-051609aseg1-cnni-business.cnn is  negative\n",
            "Constructed news article is input: Panicked 911 calls from an Allen, Texas, outlet mall captured moments of chaos and terror as the nation’s second-deadliest mass shooting so far this year unfolded, with eight killed and others wounded within minutes.Is the sentiment positive, negative or neutral of the given input? : \n",
            "Response from Model: \n",
            "sentiment of the  https://www.cnn.com/2023/05/16/us/allen-texas-mall-shooting-911-calls/index.html is  \n",
            "Constructed news article is input: A wrongful death lawsuit filed against several social media companies Friday alleges that social media lent to the radicalization of the gunman who shot and killed 10 people at a grocery store in Buffalo, New York, last May.Is the sentiment positive, negative or neutral of the given input? : \n",
            "Response from Model: \n",
            "sentiment of the  https://www.cnn.com/2023/05/14/business/buffalo-shooting-lawsuit/index.html is  \n",
            "Constructed news article is input: \"People say I'm a funny guy,\" Finnish rapper Käärijä says, reclining in the sauna truck he had shipped across northern Europe, wearing only some tight leather shorts, a set of spiky green sleeves and an aggressive bowl cut.Is the sentiment positive, negative or neutral of the given input? : \n",
            "Response from Model: positive\n",
            "sentiment of the  https://www.cnn.com/2023/05/13/uk/eurovision-song-contest-2023-grand-final-cmd-gbr-intl/index.html is  positive\n",
            "Constructed news article is input: The battle for best wireless earbuds under $100 is heating up with the release of the $80 EarFun Air Pro 3 and $100 Jabra Elite 4. Both models come with effective active noise cancellation (ANC), gratifying sound and terrific wireless features for their price points. But which one is best?Is the sentiment positive, negative or neutral of the given input? : \n",
            "Response from Model: positive\n",
            "sentiment of the  https://www.cnn.com/cnn-underscored/electronics/earfun-air-pro-3-vs-jabra-elite-4 is  positive\n"
          ]
        }
      ]
    },
    {
      "cell_type": "code",
      "source": [
        "def print_company_sentiment_data():\n",
        "  if company_sentiment_list is None:\n",
        "        print(\"No data in the company sentiment list.\")\n",
        "        return\n",
        "  for company in company_sentiment_list:\n",
        "    print(company)"
      ],
      "metadata": {
        "id": "PDtDCmQAAPxf"
      },
      "execution_count": null,
      "outputs": []
    },
    {
      "cell_type": "code",
      "source": [
        "print_company_sentiment_data()"
      ],
      "metadata": {
        "colab": {
          "base_uri": "https://localhost:8080/"
        },
        "id": "EjlawxioAQvC",
        "outputId": "7462e398-cb99-4173-a078-f367986a31aa"
      },
      "execution_count": null,
      "outputs": [
        {
          "output_type": "stream",
          "name": "stdout",
          "text": [
            "CompanySentiment(url='https://www.cnn.com/2023/05/16/business/elon-musk-george-soros/index.html', name='Tesla', sentiment='negative')\n",
            "CompanySentiment(url='https://www.cnn.com/2023/05/16/business/elon-musk-tesla-hiring-memo/index.html', name='Tesla', sentiment='negative')\n",
            "CompanySentiment(url='https://www.cnn.com/2023/05/15/business/elon-musk-jeffrey-epstein-virgin-islands-subpoena/index.html', name='Tesla', sentiment='negative')\n",
            "CompanySentiment(url='https://www.cnn.com/2023/05/12/investing/premarket-stocks-trading/index.html', name='Tesla', sentiment='negative')\n",
            "CompanySentiment(url='https://www.cnn.com/2023/05/12/economy/china-tesla-recall-intl-hnk/index.html', name='Tesla', sentiment='negative')\n",
            "CompanySentiment(url='https://www.cnn.com/cnn-underscored/deals/best-online-sales-right-now-2023-05-16', name='Apple', sentiment='positive')\n",
            "CompanySentiment(url='https://www.cnn.com/2023/05/16/investing/berkshire-hathaway-taiwan-tsmc-stock-exit-hnk-intl/index.html', name='Apple', sentiment='negative')\n",
            "CompanySentiment(url='https://www.cnn.com/cnn-underscored/deals/best-online-sales-right-now-2023-05-15', name='Apple', sentiment='positive')\n",
            "CompanySentiment(url='https://www.cnn.com/2023/05/13/tech/taylor-swift-ticket-drops-ticketmaster/index.html', name='Apple', sentiment='negative')\n",
            "CompanySentiment(url='https://www.cnn.com/cnn-underscored/deals/best-product-launches-2023-05-12', name='Apple', sentiment='positive')\n",
            "CompanySentiment(url='https://www.cnn.com/videos/business/2023/05/16/exp-ai-eric-schmidt-intv-051609aseg1-cnni-business.cnn', name='Google', sentiment='negative')\n",
            "CompanySentiment(url='https://www.cnn.com/2023/05/16/us/allen-texas-mall-shooting-911-calls/index.html', name='Google', sentiment='')\n",
            "CompanySentiment(url='https://www.cnn.com/2023/05/14/business/buffalo-shooting-lawsuit/index.html', name='Google', sentiment='')\n",
            "CompanySentiment(url='https://www.cnn.com/2023/05/13/uk/eurovision-song-contest-2023-grand-final-cmd-gbr-intl/index.html', name='Google', sentiment='positive')\n",
            "CompanySentiment(url='https://www.cnn.com/cnn-underscored/electronics/earfun-air-pro-3-vs-jabra-elite-4', name='Google', sentiment='positive')\n"
          ]
        }
      ]
    }
  ]
}